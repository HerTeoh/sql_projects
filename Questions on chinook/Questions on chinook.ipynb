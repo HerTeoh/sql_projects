{
 "cells": [
  {
   "cell_type": "markdown",
   "metadata": {},
   "source": [
    "# Answering Questions using SQL\n",
    "\n",
    "An SQL project using the chinook database."
   ]
  },
  {
   "cell_type": "markdown",
   "metadata": {},
   "source": [
    "![schema](chinook-schema.svg)"
   ]
  },
  {
   "cell_type": "markdown",
   "metadata": {},
   "source": [
    "# Required Libraries"
   ]
  },
  {
   "cell_type": "code",
   "execution_count": 1,
   "metadata": {
    "collapsed": true
   },
   "outputs": [],
   "source": [
    "import sqlite3\n",
    "import pandas as pd\n",
    "import matplotlib.pyplot as plt\n",
    "%matplotlib inline"
   ]
  },
  {
   "cell_type": "markdown",
   "metadata": {},
   "source": [
    "# Useful sqlite functions"
   ]
  },
  {
   "cell_type": "code",
   "execution_count": 2,
   "metadata": {
    "collapsed": true
   },
   "outputs": [],
   "source": [
    "def run_query(q):\n",
    "    with sqlite3.connect('chinook.db') as conn:\n",
    "        return pd.read_sql(q, conn)"
   ]
  },
  {
   "cell_type": "code",
   "execution_count": 3,
   "metadata": {
    "collapsed": true
   },
   "outputs": [],
   "source": [
    "def run_command(c):\n",
    "    with sqlite3.connect('chinook.db') as conn:\n",
    "        conn.isolation_level = None\n",
    "        conn.execute(c)"
   ]
  },
  {
   "cell_type": "code",
   "execution_count": 4,
   "metadata": {
    "collapsed": true
   },
   "outputs": [],
   "source": [
    "def show_tables():\n",
    "    q = \"SELECT name, type FROM sqlite_master WHERE type IN ('table', 'view');\"\n",
    "    return run_query(q)"
   ]
  },
  {
   "cell_type": "code",
   "execution_count": 5,
   "metadata": {},
   "outputs": [
    {
     "data": {
      "text/html": [
       "<div>\n",
       "<style scoped>\n",
       "    .dataframe tbody tr th:only-of-type {\n",
       "        vertical-align: middle;\n",
       "    }\n",
       "\n",
       "    .dataframe tbody tr th {\n",
       "        vertical-align: top;\n",
       "    }\n",
       "\n",
       "    .dataframe thead th {\n",
       "        text-align: right;\n",
       "    }\n",
       "</style>\n",
       "<table border=\"1\" class=\"dataframe\">\n",
       "  <thead>\n",
       "    <tr style=\"text-align: right;\">\n",
       "      <th></th>\n",
       "      <th>name</th>\n",
       "      <th>type</th>\n",
       "    </tr>\n",
       "  </thead>\n",
       "  <tbody>\n",
       "    <tr>\n",
       "      <th>0</th>\n",
       "      <td>album</td>\n",
       "      <td>table</td>\n",
       "    </tr>\n",
       "    <tr>\n",
       "      <th>1</th>\n",
       "      <td>artist</td>\n",
       "      <td>table</td>\n",
       "    </tr>\n",
       "    <tr>\n",
       "      <th>2</th>\n",
       "      <td>customer</td>\n",
       "      <td>table</td>\n",
       "    </tr>\n",
       "    <tr>\n",
       "      <th>3</th>\n",
       "      <td>employee</td>\n",
       "      <td>table</td>\n",
       "    </tr>\n",
       "    <tr>\n",
       "      <th>4</th>\n",
       "      <td>genre</td>\n",
       "      <td>table</td>\n",
       "    </tr>\n",
       "    <tr>\n",
       "      <th>5</th>\n",
       "      <td>invoice</td>\n",
       "      <td>table</td>\n",
       "    </tr>\n",
       "    <tr>\n",
       "      <th>6</th>\n",
       "      <td>invoice_line</td>\n",
       "      <td>table</td>\n",
       "    </tr>\n",
       "    <tr>\n",
       "      <th>7</th>\n",
       "      <td>media_type</td>\n",
       "      <td>table</td>\n",
       "    </tr>\n",
       "    <tr>\n",
       "      <th>8</th>\n",
       "      <td>playlist</td>\n",
       "      <td>table</td>\n",
       "    </tr>\n",
       "    <tr>\n",
       "      <th>9</th>\n",
       "      <td>playlist_track</td>\n",
       "      <td>table</td>\n",
       "    </tr>\n",
       "    <tr>\n",
       "      <th>10</th>\n",
       "      <td>track</td>\n",
       "      <td>table</td>\n",
       "    </tr>\n",
       "  </tbody>\n",
       "</table>\n",
       "</div>"
      ],
      "text/plain": [
       "              name   type\n",
       "0            album  table\n",
       "1           artist  table\n",
       "2         customer  table\n",
       "3         employee  table\n",
       "4            genre  table\n",
       "5          invoice  table\n",
       "6     invoice_line  table\n",
       "7       media_type  table\n",
       "8         playlist  table\n",
       "9   playlist_track  table\n",
       "10           track  table"
      ]
     },
     "execution_count": 5,
     "metadata": {},
     "output_type": "execute_result"
    }
   ],
   "source": [
    "show_tables()"
   ]
  },
  {
   "cell_type": "markdown",
   "metadata": {},
   "source": [
    "# Top Genre's sold in the USA\n",
    "\n",
    "This is the information I need and where to get them:\n",
    "* *country* is in **customer**\n",
    "* *quantity* is in **invoice line**\n",
    "* *genre_id* is in **track**\n",
    "* *name* is in **genre**\n",
    "\n",
    "This is how they all link together:\n",
    "\n",
    "**customer** *customer_id* **invoice** *invoice_id* **invoice_line** *track_id* **track** *genre_id* **genre**"
   ]
  },
  {
   "cell_type": "code",
   "execution_count": 6,
   "metadata": {},
   "outputs": [
    {
     "data": {
      "text/html": [
       "<div>\n",
       "<style scoped>\n",
       "    .dataframe tbody tr th:only-of-type {\n",
       "        vertical-align: middle;\n",
       "    }\n",
       "\n",
       "    .dataframe tbody tr th {\n",
       "        vertical-align: top;\n",
       "    }\n",
       "\n",
       "    .dataframe thead th {\n",
       "        text-align: right;\n",
       "    }\n",
       "</style>\n",
       "<table border=\"1\" class=\"dataframe\">\n",
       "  <thead>\n",
       "    <tr style=\"text-align: right;\">\n",
       "      <th></th>\n",
       "      <th>genre</th>\n",
       "      <th>tracks_sold</th>\n",
       "      <th>percentage_sold</th>\n",
       "    </tr>\n",
       "  </thead>\n",
       "  <tbody>\n",
       "    <tr>\n",
       "      <th>0</th>\n",
       "      <td>Rock</td>\n",
       "      <td>561</td>\n",
       "      <td>0.533777</td>\n",
       "    </tr>\n",
       "    <tr>\n",
       "      <th>1</th>\n",
       "      <td>Alternative &amp; Punk</td>\n",
       "      <td>130</td>\n",
       "      <td>0.123692</td>\n",
       "    </tr>\n",
       "    <tr>\n",
       "      <th>2</th>\n",
       "      <td>Metal</td>\n",
       "      <td>124</td>\n",
       "      <td>0.117983</td>\n",
       "    </tr>\n",
       "    <tr>\n",
       "      <th>3</th>\n",
       "      <td>R&amp;B/Soul</td>\n",
       "      <td>53</td>\n",
       "      <td>0.050428</td>\n",
       "    </tr>\n",
       "    <tr>\n",
       "      <th>4</th>\n",
       "      <td>Blues</td>\n",
       "      <td>36</td>\n",
       "      <td>0.034253</td>\n",
       "    </tr>\n",
       "    <tr>\n",
       "      <th>5</th>\n",
       "      <td>Alternative</td>\n",
       "      <td>35</td>\n",
       "      <td>0.033302</td>\n",
       "    </tr>\n",
       "    <tr>\n",
       "      <th>6</th>\n",
       "      <td>Latin</td>\n",
       "      <td>22</td>\n",
       "      <td>0.020932</td>\n",
       "    </tr>\n",
       "    <tr>\n",
       "      <th>7</th>\n",
       "      <td>Pop</td>\n",
       "      <td>22</td>\n",
       "      <td>0.020932</td>\n",
       "    </tr>\n",
       "  </tbody>\n",
       "</table>\n",
       "</div>"
      ],
      "text/plain": [
       "                genre  tracks_sold  percentage_sold\n",
       "0                Rock          561         0.533777\n",
       "1  Alternative & Punk          130         0.123692\n",
       "2               Metal          124         0.117983\n",
       "3            R&B/Soul           53         0.050428\n",
       "4               Blues           36         0.034253\n",
       "5         Alternative           35         0.033302\n",
       "6               Latin           22         0.020932\n",
       "7                 Pop           22         0.020932"
      ]
     },
     "execution_count": 6,
     "metadata": {},
     "output_type": "execute_result"
    }
   ],
   "source": [
    "query = '''\n",
    "        WITH usa_sales AS\n",
    "            (\n",
    "            SELECT\n",
    "                il.*\n",
    "            FROM customer c\n",
    "            INNER JOIN invoice i on c.customer_id=i.customer_id\n",
    "            INNER JOIN invoice_line il on i.invoice_id=il.invoice_id\n",
    "            WHERE c.country = \"USA\"\n",
    "            )\n",
    "            \n",
    "        SELECT\n",
    "            g.name genre,\n",
    "            COUNT(us.quantity) tracks_sold,\n",
    "            CAST(COUNT(us.quantity) AS FLOAT)/(SELECT COUNT(*) FROM usa_sales) percentage_sold\n",
    "        FROM usa_sales us\n",
    "        INNER JOIN track t on us.track_id=t.track_id\n",
    "        INNER JOIN genre g on t.genre_id=g.genre_id\n",
    "        GROUP BY genre\n",
    "        ORDER BY tracks_sold DESC\n",
    "        LIMIT 8\n",
    "        '''\n",
    "run_query(query)"
   ]
  },
  {
   "cell_type": "code",
   "execution_count": 7,
   "metadata": {},
   "outputs": [
    {
     "data": {
      "image/png": "[encoded data removed]",
      "text/plain": [
       "<Figure size 1080x360 with 1 Axes>"
      ]
     },
     "metadata": {},
     "output_type": "display_data"
    }
   ],
   "source": [
    "run_query(query).plot.bar('genre', 'tracks_sold', figsize=(15,5), colormap=plt.cm.Pastel2)\n",
    "plt.title('Number of tracks sold in the USA per genre')\n",
    "plt.ylabel('Tracks Sold')\n",
    "plt.xlabel('Genre')\n",
    "plt.show()"
   ]
  },
  {
   "cell_type": "markdown",
   "metadata": {},
   "source": [
    "## Employee Performance"
   ]
  },
  {
   "cell_type": "markdown",
   "metadata": {},
   "source": [
    "This is the information I need and where to get them:\n",
    "* *last_name*, *first_name*, *title*, *hire_date*, *city* is in **employee**\n",
    "* *total* is in **invoice**\n",
    "\n",
    "This is how they all link together:\n",
    "\n",
    "**employee** *employee_id*=*support_rep_id* **customer** *customer_id* **invoice**"
   ]
  },
  {
   "cell_type": "code",
   "execution_count": 8,
   "metadata": {},
   "outputs": [
    {
     "data": {
      "text/html": [
       "<div>\n",
       "<style scoped>\n",
       "    .dataframe tbody tr th:only-of-type {\n",
       "        vertical-align: middle;\n",
       "    }\n",
       "\n",
       "    .dataframe tbody tr th {\n",
       "        vertical-align: top;\n",
       "    }\n",
       "\n",
       "    .dataframe thead th {\n",
       "        text-align: right;\n",
       "    }\n",
       "</style>\n",
       "<table border=\"1\" class=\"dataframe\">\n",
       "  <thead>\n",
       "    <tr style=\"text-align: right;\">\n",
       "      <th></th>\n",
       "      <th>employee_name</th>\n",
       "      <th>title</th>\n",
       "      <th>hire_date</th>\n",
       "      <th>city</th>\n",
       "      <th>sales_made</th>\n",
       "    </tr>\n",
       "  </thead>\n",
       "  <tbody>\n",
       "    <tr>\n",
       "      <th>0</th>\n",
       "      <td>Jane Peacock</td>\n",
       "      <td>Sales Support Agent</td>\n",
       "      <td>2017-04-01 00:00:00</td>\n",
       "      <td>Calgary</td>\n",
       "      <td>1731.51</td>\n",
       "    </tr>\n",
       "    <tr>\n",
       "      <th>1</th>\n",
       "      <td>Margaret Park</td>\n",
       "      <td>Sales Support Agent</td>\n",
       "      <td>2017-05-03 00:00:00</td>\n",
       "      <td>Calgary</td>\n",
       "      <td>1584.00</td>\n",
       "    </tr>\n",
       "    <tr>\n",
       "      <th>2</th>\n",
       "      <td>Steve Johnson</td>\n",
       "      <td>Sales Support Agent</td>\n",
       "      <td>2017-10-17 00:00:00</td>\n",
       "      <td>Calgary</td>\n",
       "      <td>1393.92</td>\n",
       "    </tr>\n",
       "  </tbody>\n",
       "</table>\n",
       "</div>"
      ],
      "text/plain": [
       "   employee_name                title            hire_date     city  \\\n",
       "0   Jane Peacock  Sales Support Agent  2017-04-01 00:00:00  Calgary   \n",
       "1  Margaret Park  Sales Support Agent  2017-05-03 00:00:00  Calgary   \n",
       "2  Steve Johnson  Sales Support Agent  2017-10-17 00:00:00  Calgary   \n",
       "\n",
       "   sales_made  \n",
       "0     1731.51  \n",
       "1     1584.00  \n",
       "2     1393.92  "
      ]
     },
     "execution_count": 8,
     "metadata": {},
     "output_type": "execute_result"
    }
   ],
   "source": [
    "query = '''\n",
    "        SELECT\n",
    "            e.first_name || ' ' || e.last_name employee_name,\n",
    "            e.title,\n",
    "            e.hire_date,\n",
    "            e.city,\n",
    "            SUM(i.total) sales_made\n",
    "        FROM employee e\n",
    "        INNER JOIN customer c on e.employee_id=c.support_rep_id\n",
    "        INNER JOIN invoice i on c.customer_id=i.customer_id\n",
    "        GROUP BY employee_name\n",
    "        ORDER BY sales_made DESC\n",
    "        '''\n",
    "run_query(query)"
   ]
  },
  {
   "cell_type": "code",
   "execution_count": 9,
   "metadata": {},
   "outputs": [
    {
     "data": {
      "image/png": "[encoded data removed]",
      "text/plain": [
       "<Figure size 1080x360 with 1 Axes>"
      ]
     },
     "metadata": {},
     "output_type": "display_data"
    }
   ],
   "source": [
    "run_query(query).plot.bar('employee_name', 'sales_made', figsize=(15,5), colormap=plt.cm.Pastel2)\n",
    "plt.title('Total sales made by each employee')\n",
    "plt.ylabel('Sales Made')\n",
    "plt.xlabel('Employee')\n",
    "plt.show()"
   ]
  },
  {
   "cell_type": "markdown",
   "metadata": {},
   "source": [
    "## Country Performance"
   ]
  },
  {
   "cell_type": "markdown",
   "metadata": {},
   "source": [
    "This is the information I need and where to get them:\n",
    "* *country*, *customer_id* is in **customer**\n",
    "* *total*, *invoice_id* is in **invoice**\n",
    "\n",
    "This is how they all link together:\n",
    "\n",
    "**customer** *customer_id* **invoice**"
   ]
  },
  {
   "cell_type": "code",
   "execution_count": 10,
   "metadata": {},
   "outputs": [
    {
     "data": {
      "text/html": [
       "<div>\n",
       "<style scoped>\n",
       "    .dataframe tbody tr th:only-of-type {\n",
       "        vertical-align: middle;\n",
       "    }\n",
       "\n",
       "    .dataframe tbody tr th {\n",
       "        vertical-align: top;\n",
       "    }\n",
       "\n",
       "    .dataframe thead th {\n",
       "        text-align: right;\n",
       "    }\n",
       "</style>\n",
       "<table border=\"1\" class=\"dataframe\">\n",
       "  <thead>\n",
       "    <tr style=\"text-align: right;\">\n",
       "      <th></th>\n",
       "      <th>country</th>\n",
       "      <th>num_of_customers</th>\n",
       "      <th>total_sales</th>\n",
       "      <th>avg_sales_per_customer</th>\n",
       "      <th>avg_per_order</th>\n",
       "    </tr>\n",
       "  </thead>\n",
       "  <tbody>\n",
       "    <tr>\n",
       "      <th>0</th>\n",
       "      <td>Brazil</td>\n",
       "      <td>5</td>\n",
       "      <td>427.68</td>\n",
       "      <td>85.536000</td>\n",
       "      <td>7.011148</td>\n",
       "    </tr>\n",
       "    <tr>\n",
       "      <th>1</th>\n",
       "      <td>Germany</td>\n",
       "      <td>4</td>\n",
       "      <td>334.62</td>\n",
       "      <td>83.655000</td>\n",
       "      <td>8.161463</td>\n",
       "    </tr>\n",
       "    <tr>\n",
       "      <th>2</th>\n",
       "      <td>United Kingdom</td>\n",
       "      <td>3</td>\n",
       "      <td>245.52</td>\n",
       "      <td>81.840000</td>\n",
       "      <td>8.768571</td>\n",
       "    </tr>\n",
       "    <tr>\n",
       "      <th>3</th>\n",
       "      <td>USA</td>\n",
       "      <td>13</td>\n",
       "      <td>1040.49</td>\n",
       "      <td>80.037692</td>\n",
       "      <td>7.942672</td>\n",
       "    </tr>\n",
       "    <tr>\n",
       "      <th>4</th>\n",
       "      <td>France</td>\n",
       "      <td>5</td>\n",
       "      <td>389.07</td>\n",
       "      <td>77.814000</td>\n",
       "      <td>7.781400</td>\n",
       "    </tr>\n",
       "    <tr>\n",
       "      <th>5</th>\n",
       "      <td>Canada</td>\n",
       "      <td>8</td>\n",
       "      <td>535.59</td>\n",
       "      <td>66.948750</td>\n",
       "      <td>7.047237</td>\n",
       "    </tr>\n",
       "    <tr>\n",
       "      <th>6</th>\n",
       "      <td>Other</td>\n",
       "      <td>21</td>\n",
       "      <td>1736.46</td>\n",
       "      <td>82.688571</td>\n",
       "      <td>7.649604</td>\n",
       "    </tr>\n",
       "  </tbody>\n",
       "</table>\n",
       "</div>"
      ],
      "text/plain": [
       "          country  num_of_customers  total_sales  avg_sales_per_customer  \\\n",
       "0          Brazil                 5       427.68               85.536000   \n",
       "1         Germany                 4       334.62               83.655000   \n",
       "2  United Kingdom                 3       245.52               81.840000   \n",
       "3             USA                13      1040.49               80.037692   \n",
       "4          France                 5       389.07               77.814000   \n",
       "5          Canada                 8       535.59               66.948750   \n",
       "6           Other                21      1736.46               82.688571   \n",
       "\n",
       "   avg_per_order  \n",
       "0       7.011148  \n",
       "1       8.161463  \n",
       "2       8.768571  \n",
       "3       7.942672  \n",
       "4       7.781400  \n",
       "5       7.047237  \n",
       "6       7.649604  "
      ]
     },
     "execution_count": 10,
     "metadata": {},
     "output_type": "execute_result"
    }
   ],
   "source": [
    "query = '''\n",
    "        WITH other AS\n",
    "            (\n",
    "            SELECT\n",
    "                CASE\n",
    "                    WHEN\n",
    "                        (\n",
    "                        SELECT\n",
    "                            COUNT(*)\n",
    "                            FROM customer\n",
    "                            WHERE country = c.country\n",
    "                        ) <= 2 \n",
    "                    THEN 'Other'\n",
    "                    ELSE c.country\n",
    "                END AS country,\n",
    "                c.customer_id\n",
    "            FROM customer c\n",
    "            )\n",
    "        SELECT\n",
    "            country,\n",
    "            num_of_customers,\n",
    "            total_sales,\n",
    "            avg_sales_per_customer,\n",
    "            avg_per_order\n",
    "        FROM\n",
    "            (\n",
    "            SELECT\n",
    "                o.country,\n",
    "                COUNT(DISTINCT o.customer_id) num_of_customers,\n",
    "                SUM(i.total) total_sales,\n",
    "                SUM(i.total)/COUNT(DISTINCT o.customer_id) avg_sales_per_customer,\n",
    "                SUM(i.total)/COUNT(DISTINCT i.invoice_id) avg_per_order,\n",
    "                CASE WHEN country = \"Other\" THEN 1 ELSE 0 END AS sort\n",
    "            FROM other o\n",
    "            INNER JOIN invoice i ON o.customer_id=i.customer_id\n",
    "            GROUP BY o.country\n",
    "            ORDER BY sort ASC, avg_sales_per_customer DESC\n",
    "            )\n",
    "        '''\n",
    "run_query(query)"
   ]
  },
  {
   "cell_type": "code",
   "execution_count": 11,
   "metadata": {},
   "outputs": [
    {
     "data": {
      "image/png": "[encoded data removed]",
      "text/plain": [
       "<Figure size 1080x720 with 3 Axes>"
      ]
     },
     "metadata": {},
     "output_type": "display_data"
    }
   ],
   "source": [
    "f, axes = plt.subplots(nrows=3, ncols=1, figsize=(15, 10), sharex=True)\n",
    "ax1, ax2, ax3 = axes.flatten()\n",
    "\n",
    "ax1 = run_query(query).plot.bar('country', 'total_sales', colormap=plt.cm.Pastel2, ax=ax1)\n",
    "ax1.set_title('Total Sales')\n",
    "ax1.set_ylabel('Sales')\n",
    "ax1.grid()\n",
    "\n",
    "ax2 = run_query(query).plot.bar('country', 'avg_sales_per_customer', colormap=plt.cm.Pastel2, ax=ax2)\n",
    "ax2.set_title('Average Sales per Customer')\n",
    "ax2.set_ylabel('Sales')\n",
    "ax2.grid()\n",
    "\n",
    "ax3 = run_query(query).plot.bar('country', 'avg_per_order', colormap=plt.cm.Pastel2, ax=ax3)\n",
    "ax3.set_title('Average Sales per Order')\n",
    "ax3.set_ylabel('Sales')\n",
    "ax3.grid()\n",
    "\n",
    "plt.xlabel('Country')\n",
    "plt.show()"
   ]
  },
  {
   "cell_type": "markdown",
   "metadata": {
    "collapsed": true
   },
   "source": [
    "## Do people buy albums or selection of songs?"
   ]
  },
  {
   "cell_type": "markdown",
   "metadata": {},
   "source": [
    "This is the information I need and where to get them:\n",
    "* *track_id* is in **invoice_line**\n",
    "* *invoice_id* is in **invoice**\n",
    "* *album_id* is in **track**\n",
    "\n",
    "This is how they all link together:\n",
    "\n",
    "**invoice** *invoice_id* **invoice_line** *track_id* **track**"
   ]
  },
  {
   "cell_type": "code",
   "execution_count": 12,
   "metadata": {},
   "outputs": [
    {
     "data": {
      "text/html": [
       "<div>\n",
       "<style scoped>\n",
       "    .dataframe tbody tr th:only-of-type {\n",
       "        vertical-align: middle;\n",
       "    }\n",
       "\n",
       "    .dataframe tbody tr th {\n",
       "        vertical-align: top;\n",
       "    }\n",
       "\n",
       "    .dataframe thead th {\n",
       "        text-align: right;\n",
       "    }\n",
       "</style>\n",
       "<table border=\"1\" class=\"dataframe\">\n",
       "  <thead>\n",
       "    <tr style=\"text-align: right;\">\n",
       "      <th></th>\n",
       "      <th>perc_invoice</th>\n",
       "      <th>num_invoice</th>\n",
       "      <th>album_purchase</th>\n",
       "    </tr>\n",
       "  </thead>\n",
       "  <tbody>\n",
       "    <tr>\n",
       "      <th>0</th>\n",
       "      <td>81.433225</td>\n",
       "      <td>500</td>\n",
       "      <td>NO</td>\n",
       "    </tr>\n",
       "    <tr>\n",
       "      <th>1</th>\n",
       "      <td>18.566775</td>\n",
       "      <td>114</td>\n",
       "      <td>YES</td>\n",
       "    </tr>\n",
       "  </tbody>\n",
       "</table>\n",
       "</div>"
      ],
      "text/plain": [
       "   perc_invoice  num_invoice album_purchase\n",
       "0     81.433225          500             NO\n",
       "1     18.566775          114            YES"
      ]
     },
     "execution_count": 12,
     "metadata": {},
     "output_type": "execute_result"
    }
   ],
   "source": [
    "query = '''\n",
    "        WITH track_from_invoice AS (\n",
    "            SELECT\n",
    "                il.invoice_id,\n",
    "                il.track_id\n",
    "            FROM invoice_line il\n",
    "            GROUP BY il.invoice_id\n",
    "            )\n",
    "        \n",
    "        SELECT\n",
    "            (CAST(COUNT(tfi.invoice_id) AS FLOAT)/ (SELECT COUNT(*) FROM invoice))*100 perc_invoice,\n",
    "            COUNT(tfi.invoice_id) num_invoice,\n",
    "            CASE\n",
    "                WHEN (\n",
    "                    SELECT t.track_id FROM track t\n",
    "                    WHERE t.album_id = (\n",
    "                                        SELECT t2.album_id FROM track t2\n",
    "                                        WHERE t2.track_id = tfi.track_id\n",
    "                                        )\n",
    "                    EXCEPT\n",
    "\n",
    "                    SELECT il.track_id FROM invoice_line il\n",
    "                    WHERE il.invoice_id = tfi.invoice_id\n",
    "                    ) IS NULL\n",
    "\n",
    "                AND (\n",
    "                    SELECT il.track_id FROM invoice_line il\n",
    "                    WHERE il.invoice_id = tfi.invoice_id\n",
    "\n",
    "                    EXCEPT\n",
    "\n",
    "                    SELECT t.track_id FROM track t\n",
    "                    WHERE t.album_id = (\n",
    "                                        SELECT t2.album_id FROM track t2\n",
    "                                        WHERE t2.track_id = tfi.track_id\n",
    "                                        )\n",
    "                    ) IS NULL\n",
    "                THEN 'YES'\n",
    "                ELSE 'NO'\n",
    "            END as album_purchase\n",
    "        FROM track_from_invoice tfi\n",
    "        GROUP BY album_purchase\n",
    "        '''\n",
    "run_query(query)"
   ]
  },
  {
   "cell_type": "code",
   "execution_count": 13,
   "metadata": {},
   "outputs": [
    {
     "data": {
      "image/png": "[encoded data removed]",
      "text/plain": [
       "<Figure size 1080x360 with 1 Axes>"
      ]
     },
     "metadata": {},
     "output_type": "display_data"
    }
   ],
   "source": [
    "run_query(query).plot.barh('album_purchase', 'num_invoice', figsize=(15, 5), colormap=plt.cm.Pastel2)\n",
    "plt.title('Album vs Single Purchases')\n",
    "plt.ylabel('Album Purchased')\n",
    "plt.xlabel('Number of Invoices')\n",
    "plt.show()"
   ]
  },
  {
   "cell_type": "markdown",
   "metadata": {},
   "source": [
    "## How many tracks have been purchased vs not purchased?"
   ]
  },
  {
   "cell_type": "markdown",
   "metadata": {},
   "source": [
    "This is the information I need and where to get them:\n",
    "* *invoice_line_id* is in **invoice_line**\n",
    "* *track_id* is in **track**\n",
    "\n",
    "This is how they all link together:\n",
    "\n",
    "**invoice_line** *track_id* **track**"
   ]
  },
  {
   "cell_type": "code",
   "execution_count": 14,
   "metadata": {},
   "outputs": [
    {
     "data": {
      "text/html": [
       "<div>\n",
       "<style scoped>\n",
       "    .dataframe tbody tr th:only-of-type {\n",
       "        vertical-align: middle;\n",
       "    }\n",
       "\n",
       "    .dataframe tbody tr th {\n",
       "        vertical-align: top;\n",
       "    }\n",
       "\n",
       "    .dataframe thead th {\n",
       "        text-align: right;\n",
       "    }\n",
       "</style>\n",
       "<table border=\"1\" class=\"dataframe\">\n",
       "  <thead>\n",
       "    <tr style=\"text-align: right;\">\n",
       "      <th></th>\n",
       "      <th>num_tracks</th>\n",
       "      <th>purchased</th>\n",
       "    </tr>\n",
       "  </thead>\n",
       "  <tbody>\n",
       "    <tr>\n",
       "      <th>0</th>\n",
       "      <td>1697</td>\n",
       "      <td>no</td>\n",
       "    </tr>\n",
       "    <tr>\n",
       "      <th>1</th>\n",
       "      <td>1806</td>\n",
       "      <td>yes</td>\n",
       "    </tr>\n",
       "  </tbody>\n",
       "</table>\n",
       "</div>"
      ],
      "text/plain": [
       "   num_tracks purchased\n",
       "0        1697        no\n",
       "1        1806       yes"
      ]
     },
     "execution_count": 14,
     "metadata": {},
     "output_type": "execute_result"
    }
   ],
   "source": [
    "query = '''\n",
    "        WITH\n",
    "            not_purchased AS (\n",
    "                SELECT\n",
    "                    DISTINCT(t.track_id)\n",
    "                FROM track t\n",
    "\n",
    "                EXCEPT\n",
    "\n",
    "                SELECT\n",
    "                    DISTINCT(il.track_id)\n",
    "                FROM invoice_line il\n",
    "            )\n",
    "        \n",
    "        SELECT\n",
    "            COUNT(t.track_id) num_tracks,\n",
    "            CASE\n",
    "                WHEN (\n",
    "                    t.track_id IN (SELECT not_purchased.track_id FROM not_purchased)\n",
    "                    )\n",
    "                THEN 'no'\n",
    "                ELSE 'yes'\n",
    "            END AS purchased\n",
    "        FROM track t\n",
    "        GROUP BY purchased\n",
    "        '''\n",
    "run_query(query)"
   ]
  },
  {
   "cell_type": "code",
   "execution_count": 15,
   "metadata": {},
   "outputs": [
    {
     "data": {
      "image/png": "[encoded data removed]",
      "text/plain": [
       "<Figure size 1080x360 with 1 Axes>"
      ]
     },
     "metadata": {},
     "output_type": "display_data"
    }
   ],
   "source": [
    "run_query(query).plot.barh('purchased', 'num_tracks', figsize=(15, 5), colormap=plt.cm.Pastel2)\n",
    "plt.title('Purchased vs Unpurchased Tracks')\n",
    "plt.ylabel('Purchased')\n",
    "plt.xlabel('Number of Tracks')\n",
    "plt.show()"
   ]
  },
  {
   "cell_type": "code",
   "execution_count": null,
   "metadata": {
    "collapsed": true
   },
   "outputs": [],
   "source": []
  }
 ],
 "metadata": {
  "kernelspec": {
   "display_name": "Python 3",
   "language": "python",
   "name": "python3"
  },
  "language_info": {
   "codemirror_mode": {
    "name": "ipython",
    "version": 3
   },
   "file_extension": ".py",
   "mimetype": "text/x-python",
   "name": "python",
   "nbconvert_exporter": "python",
   "pygments_lexer": "ipython3",
   "version": "3.6.3"
  }
 },
 "nbformat": 4,
 "nbformat_minor": 2
}
